{
 "cells": [
  {
   "cell_type": "code",
   "execution_count": 1,
   "metadata": {},
   "outputs": [],
   "source": [
    "import json\n",
    "import requests\n",
    "from tqdm.notebook import tqdm"
   ]
  },
  {
   "cell_type": "code",
   "execution_count": 2,
   "metadata": {},
   "outputs": [
    {
     "data": {
      "text/plain": [
       "0      192729512\n",
       "1      208378320\n",
       "2      173267525\n",
       "3      159602767\n",
       "4      213714039\n",
       "         ...    \n",
       "379    125433783\n",
       "380    107375317\n",
       "381    179991575\n",
       "382    200025119\n",
       "383    107670743\n",
       "Name: 0, Length: 384, dtype: int64"
      ]
     },
     "execution_count": 2,
     "metadata": {},
     "output_type": "execute_result"
    }
   ],
   "source": [
    "import pandas as pd\n",
    "df = pd.read_csv('list_id.csv')\n",
    "df['0']"
   ]
  },
  {
   "cell_type": "code",
   "execution_count": 3,
   "metadata": {},
   "outputs": [
    {
     "data": {
      "application/vnd.jupyter.widget-view+json": {
       "model_id": "158b6770918445138023061abe760417",
       "version_major": 2,
       "version_minor": 0
      },
      "text/plain": [
       "loading...:   0%|          | 0/384 [00:00<?, ?it/s]"
      ]
     },
     "metadata": {},
     "output_type": "display_data"
    }
   ],
   "source": [
    "list_id = []\n",
    "list_name = []\n",
    "list_price = []\n",
    "list_link = []\n",
    "list_short_description = []\n",
    "list_review_count = []\n",
    "list_rating_average = []\n",
    "for i in tqdm(df['0'],'loading...'):\n",
    "    headers = {\n",
    "        'authority': 'tiki.vn',\n",
    "        'method': 'GET',\n",
    "        'path': '/api/v2/products/126890497?platform=web&spid=126890499',\n",
    "        'scheme': 'https',\n",
    "        'accept-encoding': 'gzip, deflate, br',\n",
    "        'sec-ch-ua': '\"Chromium\";v=\"112\", \"Google Chrome\";v=\"112\", \"Not:A-Brand\";v=\"99\"',\n",
    "        'sec-ch-ua-mobile': '?0',\n",
    "        'sec-ch-ua-platform': \"Windows\",\n",
    "        'sec-fetch-dest': 'empty',\n",
    "        'sec-fetch-mode': 'cors',\n",
    "        'sec-fetch-site': 'same-origin',\n",
    "        'accept': \"application/json, text/plain, */*\",\n",
    "        'accept-language': \"vi,en-US;q=0.9,en;q=0.8,vi-VN;q=0.7,fr-FR;q=0.6,fr;q=0.5\",\n",
    "        'cookie': '_trackity=4a22710f-5c0b-9fb6-4a96-bcb10891cb4e; _gcl_au=1.1.1671993499.1681988658; __uidac=23a7834afcc8aaea5f1f7559d3934d59; __iid=749; __iid=749; __su=0; __su=0; _gaexp=GAX1.2.C-c7Bj3wRv6XIWSxxHvkgQ.19558.1; _hjSessionUser_522327=eyJpZCI6IjE1NTk5ZjQwLTIwZDEtNTM4Yi04MTNhLTJjNWZmZmEzZjEyNCIsImNyZWF0ZWQiOjE2ODE5ODg2NTg1MzAsImV4aXN0aW5nIjp0cnVlfQ==; TOKENS={%22access_token%22:%22acFuJbe35sYnSw2hvxioT1VByQURXfgD%22}; _ga_W6PZ1YEX5L=GS1.1.1682013470.1.1.1682013605.0.0.0; delivery_zone=Vk4wMzkwMDYwMDE=; _gid=GA1.2.1655400559.1683484004; tiki_client_id=684276926.1681988643; _gat=1; _hjIncludedInSessionSample_522327=0; _hjSession_522327=eyJpZCI6IjViYWY0MWNmLWMzOGQtNDQ1OS1iMTYzLWExODQzODhiMzFhYSIsImNyZWF0ZWQiOjE2ODM0OTU5NDY2MDIsImluU2FtcGxlIjpmYWxzZX0=; _hjAbsoluteSessionInProgress=0; amp_99d374=Q7l4YRQ6Vh6qqaBB-RCM7v...1gvs2qqp7.1gvs2romg.2e.3u.6c; _ga_GSD4ETCY1D=GS1.1.1683495948.8.1.1683495972.36.0.0; _ga=GA1.1.684276926.1681988643; cto_bundle=JCJL2F81JTJGTlVOajJTRWN3S24lMkJpJTJGZFptSTBmbHdIaTJjN216N1ZlQXdNZUdHVGlLVSUyRkRwSTloMlk2Q0J1ajBZVjFWY05icnFyaUdYTklHJTJGJTJCZkRDRzJ6VU5WWFZWVHhoc0pGTDNvdWRjOWlMJTJCR0F0TXJjcXRnS0hSSzFRM2k5QllnOUM0NmxZbkdmMVFpNTRFRkhkM2k1eU5zdyUzRCUzRA',\n",
    "        'user-agent': \"Mozilla/5.0 (Windows NT 10.0; Win64; x64) AppleWebKit/537.36 (KHTML, like Gecko) Chrome/112.0.0.0 Safari/537.36\",\n",
    "        'x-guest-token': \"acFuJbe35sYnSw2hvxioT1VByQURXfgD\"\n",
    "    }\n",
    "    pramas = {\n",
    "        'platform': 'web',\n",
    "        'spid': str(i)\n",
    "    }\n",
    "    url = 'https://tiki.vn/api/v2/products/{}'.format(i)\n",
    "    response = requests.get(url, headers=headers, params=pramas)\n",
    "    data = response.json()\n",
    "    list_id.append(data['id'])\n",
    "    list_name.append(data['name'])\n",
    "    list_price.append(data['price'])\n",
    "    list_link.append(data['short_url'])\n",
    "    list_short_description.append(data['short_description'])\n",
    "    list_review_count.append(data['review_count'])\n",
    "    list_rating_average.append(data['rating_average'])\n",
    "    "
   ]
  },
  {
   "cell_type": "code",
   "execution_count": 4,
   "metadata": {},
   "outputs": [
    {
     "name": "stderr",
     "output_type": "stream",
     "text": [
      "c:\\Users\\MSI20\\AppData\\Local\\Programs\\Python\\Python38\\lib\\site-packages\\pandas\\util\\_decorators.py:211: FutureWarning: the 'encoding' keyword is deprecated and will be removed in a future version. Please take steps to stop the use of 'encoding'\n",
      "  return func(*args, **kwargs)\n"
     ]
    }
   ],
   "source": [
    "df = pd.DataFrame({'id':list_id,'name':list_name,'price':list_price,'link':list_link,'short_description':list_short_description,'review_count':list_review_count,'rating_average':list_rating_average})\n",
    "df.to_excel('data_api_tiki.xlsx',index=False,encoding='utf-8-sig')"
   ]
  }
 ],
 "metadata": {
  "kernelspec": {
   "display_name": "Python 3",
   "language": "python",
   "name": "python3"
  },
  "language_info": {
   "codemirror_mode": {
    "name": "ipython",
    "version": 3
   },
   "file_extension": ".py",
   "mimetype": "text/x-python",
   "name": "python",
   "nbconvert_exporter": "python",
   "pygments_lexer": "ipython3",
   "version": "3.8.5"
  },
  "orig_nbformat": 4
 },
 "nbformat": 4,
 "nbformat_minor": 2
}
