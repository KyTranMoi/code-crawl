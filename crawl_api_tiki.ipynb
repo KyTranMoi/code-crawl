{
 "cells": [
  {
   "cell_type": "code",
   "execution_count": 35,
   "metadata": {},
   "outputs": [],
   "source": [
    "import json\n",
    "import requests"
   ]
  },
  {
   "cell_type": "code",
   "execution_count": 36,
   "metadata": {},
   "outputs": [
    {
     "name": "stdout",
     "output_type": "stream",
     "text": [
      "200\n",
      "200\n",
      "200\n",
      "200\n",
      "200\n",
      "200\n",
      "200\n",
      "200\n",
      "200\n"
     ]
    }
   ],
   "source": [
    "list_id = []\n",
    "\n",
    "for i in range(1,10):\n",
    "    data = {\n",
    "        'limit': '40',\n",
    "        'include': 'advertisement',\n",
    "        'aggregations': 2,\n",
    "        'trackity_id': '4a22710f-5c0b-9fb6-4a96-bcb10891cb4e',\n",
    "        'q': 'laptop gaming',\n",
    "        'page': str(i)\n",
    "    }\n",
    "\n",
    "    headers = {\n",
    "        'authority': 'tiki.vn',\n",
    "        'method': 'GET',\n",
    "        'scheme': 'https',\n",
    "        'accept': 'application/json, text/plain, */*',\n",
    "        'accept-encoding': 'gzip, deflate, br',\n",
    "        'accept-language': 'vi,en-US;q=0.9,en;q=0.8,vi-VN;q=0.7,fr-FR;q=0.6,fr;q=0.5',\n",
    "        'cookie': '_trackity=4a22710f-5c0b-9fb6-4a96-bcb10891cb4e; _gcl_au=1.1.1671993499.1681988658; __uidac=23a7834afcc8aaea5f1f7559d3934d59; __iid=749; __iid=749; __su=0; __su=0; _gaexp=GAX1.2.C-c7Bj3wRv6XIWSxxHvkgQ.19558.1; _hjSessionUser_522327=eyJpZCI6IjE1NTk5ZjQwLTIwZDEtNTM4Yi04MTNhLTJjNWZmZmEzZjEyNCIsImNyZWF0ZWQiOjE2ODE5ODg2NTg1MzAsImV4aXN0aW5nIjp0cnVlfQ==; TOKENS={%22access_token%22:%22acFuJbe35sYnSw2hvxioT1VByQURXfgD%22}; _ga_W6PZ1YEX5L=GS1.1.1682013470.1.1.1682013605.0.0.0; cto_bundle=vyiKPl81JTJGTlVOajJTRWN3S24lMkJpJTJGZFptSTBWdmNEQ1ZBV3NrJTJGYUNHaWZacGduNGhJY0NDdnZ0aWM3TFNIVzVxaWRDMmdTUEVXcmFQU2xYVWRjOSUyQmNiM1N1TklGUXNpSDR5ZVEwTDRQcTBVZ2dSU2N4M1NPSWN3a2U3VU9HVDZINWRkJTJCZHdqaVAlMkJETGM3MmNPcnZVSWtOZnd0dyUzRCUzRA; delivery_zone=Vk4wMzkwMDYwMDE=; _gid=GA1.2.1655400559.1683484004; tiki_client_id=684276926.1681988643; _gat=1; _ga=GA1.1.684276926.1681988643; _hjIncludedInSessionSample_522327=0; _hjSession_522327=eyJpZCI6IjdhNTBmZDg1LTEzOWEtNDk3MC05Yzg1LTgyZWY1YmRhYTgzOSIsImNyZWF0ZWQiOjE2ODM0ODQwMDY5NDYsImluU2FtcGxlIjpmYWxzZX0=; _hjAbsoluteSessionInProgress=0; amp_99d374=Q7l4YRQ6Vh6qqaBB-RCM7v...1gvrnee2j.1gvrnfli8.1v.36.55; _ga_GSD4ETCY1D=GS1.1.1683484006.6.1.1683484041.25.0.0',\n",
    "        'referer': 'https://tiki.vn/',\n",
    "        'sec-ch-ua': '\"Chromium\";v=\"112\", \"Google Chrome\";v=\"112\", \"Not:A-Brand\";v=\"99\"',\n",
    "        'sec-ch-ua-mobile': '?0',\n",
    "        'sec-ch-ua-platform': \"Windows\",\n",
    "        'user-agent': \"Mozilla/5.0 (Windows NT 10.0; Win64; x64) AppleWebKit/537.36 (KHTML, like Gecko) Chrome/112.0.0.0 Safari/537.36\",\n",
    "        \"x-guest-token\": 'acFuJbe35sYnSw2hvxioT1VByQURXfgD'\n",
    "    }\n",
    "    response = requests.get('https://tiki.vn/api/v2/products?', headers=headers, params=data)\n",
    "    print(response.status_code)\n",
    "    datas = response.json()\n",
    "    for data in datas['data']:\n",
    "        list_id.append(data['id'])\n",
    "    "
   ]
  },
  {
   "cell_type": "code",
   "execution_count": 37,
   "metadata": {},
   "outputs": [],
   "source": [
    "import pandas as pd\n",
    "df = pd.DataFrame(list_id)\n",
    "df.to_csv('list_id.csv', index=False)"
   ]
  }
 ],
 "metadata": {
  "kernelspec": {
   "display_name": "Python 3",
   "language": "python",
   "name": "python3"
  },
  "language_info": {
   "codemirror_mode": {
    "name": "ipython",
    "version": 3
   },
   "file_extension": ".py",
   "mimetype": "text/x-python",
   "name": "python",
   "nbconvert_exporter": "python",
   "pygments_lexer": "ipython3",
   "version": "3.8.5"
  },
  "orig_nbformat": 4
 },
 "nbformat": 4,
 "nbformat_minor": 2
}
