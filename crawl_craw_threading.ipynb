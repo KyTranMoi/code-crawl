{
 "cells": [
  {
   "cell_type": "code",
   "execution_count": 1,
   "metadata": {},
   "outputs": [
    {
     "data": {
      "text/plain": [
       "200"
      ]
     },
     "execution_count": 1,
     "metadata": {},
     "output_type": "execute_result"
    }
   ],
   "source": [
    "import requests\n",
    "st = requests.get('https://www.cars.com/shopping/results/?list_price_max=&makes[]=mercedes_benz&maximum_distance=20&models[]=&page=1&stock_type=cpo&zip=')\n",
    "st.status_code"
   ]
  },
  {
   "cell_type": "code",
   "execution_count": 2,
   "metadata": {},
   "outputs": [],
   "source": [
    "import threading\n",
    "import requests\n",
    "from bs4 import BeautifulSoup\n",
    "import pandas as pd\n",
    "import time\n",
    "list_title = []\n",
    "list_mileage = []\n",
    "list_primary_price = []\n",
    "list_secondary_price_drop = []\n",
    "list_dealer_name = []\n",
    "list_sds_rating_count = []\n",
    "list_sds_rating_link_sds_button_link = []\n",
    "list_link = []\n",
    "class Crawler:\n",
    "    def __init__(self, urls):\n",
    "        self.urls = urls\n",
    "        self.lock = threading.Lock()\n",
    "\n",
    "    def crawl(self):\n",
    "        while True:\n",
    "            with self.lock:\n",
    "                if not self.urls:\n",
    "                    break\n",
    "                url = self.urls.pop()\n",
    "\n",
    "            response = requests.get(url)\n",
    "            sub = BeautifulSoup(response.text, 'html.parser')\n",
    "            tagets = sub.find_all('div', class_='vehicle-card-main js-gallery-click-card')\n",
    "            for i in tagets:\n",
    "                title = i.find('h2', class_='title').text\n",
    "                link = i.find('a', class_='vehicle-card-link js-gallery-click-link').get('href')\n",
    "                mileage = i.find('div', class_='mileage').text\n",
    "                primary_price = i.find('span', class_='primary-price').text\n",
    "                dealer_name = i.find('div', class_='dealer-name').text.strip()\n",
    "                if i.find('span', class_='sds-rating__count') is None:\n",
    "                    sds_rating_count = 'sds-rating--not-rated'\n",
    "                else:\n",
    "                    sds_rating_count = i.find('span', class_='sds-rating__count').text\n",
    "                sds_rating_link_sds_button_link = i.find('span', class_='sds-rating__link sds-button-link').text.replace('(', '').replace(')', '')\n",
    "                list_title.append(title)\n",
    "                list_mileage.append(mileage)\n",
    "                list_primary_price.append(primary_price)\n",
    "                list_dealer_name.append(dealer_name)\n",
    "                list_sds_rating_count.append(sds_rating_count)\n",
    "                list_sds_rating_link_sds_button_link.append(sds_rating_link_sds_button_link)\n",
    "                list_link.append('https://www.cars.com'+link)\n",
    "                \n",
    "            \n",
    "\n",
    "if __name__ == '__main__':\n",
    "    urls = [f'https://www.cars.com/shopping/results/?list_price_max=&makes[]=mercedes_benz&maximum_distance=20&models[]=&page={i}&stock_type=cpo&zip='.format(i) for i in range(1,101)]\n",
    "    crawlers = [Crawler(urls) for _ in range(6)]\n",
    "    threads = [threading.Thread(target=crawler.crawl) for crawler in crawlers]\n",
    "\n",
    "    for thread in threads:\n",
    "        thread.start()\n",
    "\n",
    "    for thread in threads:\n",
    "        thread.join()"
   ]
  },
  {
   "cell_type": "code",
   "execution_count": 3,
   "metadata": {},
   "outputs": [
    {
     "data": {
      "text/plain": [
       "(2000, 2000, 2000, 2000, 2000, 2000, 2000)"
      ]
     },
     "execution_count": 3,
     "metadata": {},
     "output_type": "execute_result"
    }
   ],
   "source": [
    "len(list_title), len(list_mileage), len(list_primary_price), len(list_dealer_name), len(list_sds_rating_count), len(list_sds_rating_link_sds_button_link), len(list_link)"
   ]
  },
  {
   "cell_type": "code",
   "execution_count": 4,
   "metadata": {},
   "outputs": [],
   "source": [
    "df = pd.DataFrame({'title':list_title, 'mileage':list_mileage, 'primary_price':list_primary_price, 'dealer_name':list_dealer_name, 'sds_rating_count':list_sds_rating_count, 'sds_rating_link_sds_button_link':list_sds_rating_link_sds_button_link, 'link':list_link})"
   ]
  },
  {
   "cell_type": "code",
   "execution_count": 5,
   "metadata": {},
   "outputs": [],
   "source": [
    "df.to_csv('cars.csv', index=False)"
   ]
  }
 ],
 "metadata": {
  "kernelspec": {
   "display_name": "Python 3",
   "language": "python",
   "name": "python3"
  },
  "language_info": {
   "codemirror_mode": {
    "name": "ipython",
    "version": 3
   },
   "file_extension": ".py",
   "mimetype": "text/x-python",
   "name": "python",
   "nbconvert_exporter": "python",
   "pygments_lexer": "ipython3",
   "version": "3.8.5"
  },
  "orig_nbformat": 4
 },
 "nbformat": 4,
 "nbformat_minor": 2
}
